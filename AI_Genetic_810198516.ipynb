{
 "cells": [
  {
   "cell_type": "markdown",
   "metadata": {},
   "source": [
    "# Artificial Intelligence Course, Dr.Fadaei"
   ]
  },
  {
   "cell_type": "markdown",
   "metadata": {},
   "source": [
    "# Computer Assignment #2"
   ]
  },
  {
   "cell_type": "markdown",
   "metadata": {},
   "source": [
    "## AI Hands-on: Genetic"
   ]
  },
  {
   "cell_type": "markdown",
   "metadata": {},
   "source": [
    "## Parnian fazel (810198516)"
   ]
  },
  {
   "cell_type": "markdown",
   "metadata": {},
   "source": [
    "### Goal:"
   ]
  },
  {
   "cell_type": "markdown",
   "metadata": {},
   "source": [
    "In this project we should use the genetic algorithms in order to solve a sudoku game. We get familiar with the **reproduction cycle** and we use **selection**, **mutation**, **crossover** and other **GA operators** to reach this goal."
   ]
  },
  {
   "cell_type": "markdown",
   "metadata": {},
   "source": [
    "### Brief Description:"
   ]
  },
  {
   "cell_type": "markdown",
   "metadata": {},
   "source": [
    "In this assugnment we get a **sudoku** table as input and we should solve this table using the genetic algorithm. Sudoku is played on a grid of 9 x 9 spaces. Within the rows and columns are 9 squares and contains 9  3x3 blockes. Each row, column and block needs to be filled out with the numbers 1-9, without repeating any numbers within the row, column or square. "
   ]
  },
  {
   "cell_type": "markdown",
   "metadata": {},
   "source": [
    "### What is GA and How It works?"
   ]
  },
  {
   "cell_type": "markdown",
   "metadata": {},
   "source": [
    "The genetic algorithm is a random-based classical evolutionary algorithm. By random here we mean that in order to find a solution using the GA, random changes applied to the current solutions to generate new ones. GA is based on Darwin’s theory of evolution. GA works on a population consisting of some solutions where the population size is the number of solutions. Each solution is called individual. Each individual solution has a chromosome. The chromosome is represented as a set of parameters (features) that defines the individual. Each chromosome has a set of genes. Each individual has a fitness value. To select the best individuals, a fitness function is used. The result of the fitness function is the fitness value representing the quality of the solution. The higher the fitness value the higher the quality the solution. Selection of the best individuals based on their quality is applied to generate what is called a mating pool where the higher quality individual has higher probability of being selected in the mating pool. All these opratores are defind ih the algorithm below."
   ]
  },
  {
   "cell_type": "markdown",
   "metadata": {},
   "source": [
    "### Libraries ipmorted"
   ]
  },
  {
   "cell_type": "code",
   "execution_count": 1,
   "metadata": {},
   "outputs": [],
   "source": [
    "import numpy as np\n",
    "import random\n",
    "random.seed()\n",
    "import time"
   ]
  },
  {
   "cell_type": "markdown",
   "metadata": {},
   "source": [
    "### Hyperparameters"
   ]
  },
  {
   "cell_type": "markdown",
   "metadata": {},
   "source": [
    "Here I defined the hyperparameters I used through the algorithm. these parameters are very imprtant and changing them would effect the optimality and completeness of the algorithm. I did not define the mutation rate in this part beacuase I used dynamic mutation rate and it is not constant. The mutation rate is defined in the GA class."
   ]
  },
  {
   "cell_type": "code",
   "execution_count": 2,
   "metadata": {},
   "outputs": [],
   "source": [
    "N = 9\n",
    "POPULATION_SIZE = 1000\n",
    "NUMBER_OF_GENERATIONS = 400\n",
    "SELECTION_RATE = 0.2\n",
    "CROSSOVER_RATE = 0.9\n",
    "LOCAL_OPTIMAL_SIZE = 10\n",
    "MAX_LOCAL_OPTIMA_NUMBER = 10\n",
    "INCREASE_MUTATION_RATE = 0.05"
   ]
  },
  {
   "cell_type": "markdown",
   "metadata": {},
   "source": [
    "### Encoding:"
   ]
  },
  {
   "cell_type": "markdown",
   "metadata": {},
   "source": [
    "The encoding of individuals (also known as chromosome encoding) is fundamental to the implementation of GAs in order to efficiently transmit the genetic information from parents to offsprings.\n",
    "* **Gene**: Every cell of the table\n",
    "* **Chromosome**: Each possible solution table "
   ]
  },
  {
   "cell_type": "markdown",
   "metadata": {},
   "source": [
    "### Individual"
   ]
  },
  {
   "cell_type": "markdown",
   "metadata": {},
   "source": [
    "Here I defined The Individual Class:\n",
    "This class has the table as the grid attribute which is a 2D array and a fitness value. which will be set during the reproduction cycle.\n",
    "This class hase several methodes:\n",
    "* **setFitness()**: This function calculates the fitness of a chromosome and returns it. The fitness function count total number of unique values in each row, column and 3x3 block. So if the fitness value of a chromosome is $81 * 3 = 243$ it is the final solution.\n",
    "* **getMutationRange()**: This methodes finds all the valid numbers which can be set in a sqaure of a grid. The mutation function use this method in order to find all possible numbers can be used to mutate a square.\n",
    "* **mutate()**: This function traverse all squares in a grid and mutate each gene if possible (based on the getMutationRange() method described above."
   ]
  },
  {
   "cell_type": "code",
   "execution_count": 3,
   "metadata": {},
   "outputs": [],
   "source": [
    "class Individual:\n",
    "    def __init__(self):\n",
    "        self.grid = np.zeros((N, N), dtype=int)\n",
    "        self.fitness = None\n",
    "        return\n",
    "\n",
    "    def setFitness(self):\n",
    "        uniqueNumbers = 0\n",
    "        tableGrid = np.array(self.grid)\n",
    "        for i in range(0, N):\n",
    "            _, count = np.unique(tableGrid[i],  return_counts=True)\n",
    "            uniqueNumbers += len(count[count == 1])\n",
    "\n",
    "        for j in range(0, N):\n",
    "            _, count = np.unique(tableGrid[:,j],  return_counts=True)\n",
    "            uniqueNumbers += len(count[count == 1])\n",
    "\n",
    "        for i in range(0, N, 3):\n",
    "            for j in range(0, N, 3):\n",
    "                block = tableGrid[i:i+3, j:j+3]\n",
    "                _, count = np.unique(block,  return_counts=True)\n",
    "                uniqueNumbers += len(count[count == 1])\n",
    "        fitness = uniqueNumbers\n",
    "        self.fitness = fitness\n",
    "        return fitness\n",
    "\n",
    "\n",
    "    def getMutationRange(self, i, j):\n",
    "        availableNumbers = np.arange(1,N+1)\n",
    "        for c in range(N):\n",
    "            if (not c == j) and self.grid[i][c] in availableNumbers:\n",
    "                availableNumbers = availableNumbers[availableNumbers != self.grid[i][c]]\n",
    "        for r in range(N):\n",
    "            if (not r == i) and self.grid[r][j] in availableNumbers:\n",
    "                availableNumbers = availableNumbers[availableNumbers !=  self.grid[r][j]]\n",
    "        rBlock = (int(i / 3)) * 3\n",
    "        cBlock = (int(j / 3)) * 3\n",
    "        for r in range(rBlock, rBlock + 2):\n",
    "            for c in range(cBlock, cBlock + 2):\n",
    "                if (not r == i) and (not c == j) and self.grid[r][c] in availableNumbers:\n",
    "                    availableNumbers = availableNumbers[availableNumbers != self.grid[r][c]]\n",
    "        return availableNumbers\n",
    "\n",
    "    def mutate(self, problem):\n",
    "        for i in range(N):\n",
    "            for j in range(N):\n",
    "                if problem.grid[i][j] == 0:\n",
    "                    availableNumbers = self.getMutationRange(i, j)\n",
    "                    if len(availableNumbers):\n",
    "                        chosenValue = random.choice(availableNumbers)\n",
    "                        self.grid[i][j] = chosenValue\n",
    "\n"
   ]
  },
  {
   "cell_type": "markdown",
   "metadata": {},
   "source": [
    "## Population"
   ]
  },
  {
   "cell_type": "markdown",
   "metadata": {},
   "source": [
    "Here I defined the population class which has list of all chromosemes. This class hase several methodes:\n",
    "* **generateChromosome():** This method generate a chromosome which the predifined sqaures of the given sudoku are in their place but the empty sqaures will be set by a random value and finally a chromosome is generated. This method is used in generatePopulation() method in the class.\n",
    "* **generatePopulation():** this function generate chromosomes by employing the `generateChromosome()` method and the number of this chromosomes are defined as hyperparameter `POPULATION_SIZE`.\n",
    "* **setFitness():** This method traverse through all chromosomes and call `setFitness()` function for each individual in the population"
   ]
  },
  {
   "cell_type": "code",
   "execution_count": 4,
   "metadata": {},
   "outputs": [],
   "source": [
    "class Population:\n",
    "    def __init__(self):\n",
    "        self.chromosomes = []\n",
    "\n",
    "    def generateChromosome(self, inputBoard):\n",
    "        chromosome = []\n",
    "        for i in range(N):\n",
    "            valuesRange = np.arange(1,N+1)\n",
    "            chromosome.append(list(inputBoard[i]))\n",
    "            for j in range(N):\n",
    "                if chromosome[i][j] == 0:\n",
    "                    chosenValue = random.choice(valuesRange)\n",
    "                    chromosome[i][j] = chosenValue\n",
    "        ch = Individual()\n",
    "        ch.grid = chromosome\n",
    "        return ch\n",
    "\n",
    "    def generatePopulation(self, inputBoard):\n",
    "        for _ in range (POPULATION_SIZE):\n",
    "            self.chromosomes.append(self.generateChromosome(inputBoard))\n",
    "\n",
    "    def setFitness(self):\n",
    "        for chromosome in self.chromosomes:\n",
    "            chromosome.setFitness()\n",
    "        return\n",
    "\n",
    "    def sort(self):\n",
    "        self.chromosomes.sort(key=lambda x: x.fitness)\n",
    "        return"
   ]
  },
  {
   "cell_type": "markdown",
   "metadata": {},
   "source": [
    "### Genetic Algorithm"
   ]
  },
  {
   "cell_type": "markdown",
   "metadata": {},
   "source": [
    "In this part I defined the Genetic Algorithm class. This class has several attributes and methodes."
   ]
  },
  {
   "cell_type": "markdown",
   "metadata": {},
   "source": [
    "#### Attributes:"
   ]
  },
  {
   "cell_type": "markdown",
   "metadata": {},
   "source": [
    "* **grid**: it is the given sudoku table as input of the algorithm\n",
    "* **problem**: it is a individual which its grid is the given sudoku table as input\n",
    "* **population**: it it the current population which the cycle is running on. At first it is the population of the first generation.\n",
    "* **numberOfTimesGotInLocalMaxima:** In order to avoid getting in local optima I defined this attribute. every time we get into local optima this varibale increase by 1 and if its value get higher than hyperparameter `MAX_LOCAL_OPTIMA_NUMBER` th cycle will start over.\n",
    "* **bestIndividuals**: I store the top fitness of chromosomes in each population and if the last `LOCAL_OPTIMAL_SIZE` number of this array are similar means we got into a local optima. I use this attribute in `isInLocalMaxima()` method."
   ]
  },
  {
   "cell_type": "markdown",
   "metadata": {},
   "source": [
    "#### Methodes:"
   ]
  },
  {
   "cell_type": "markdown",
   "metadata": {},
   "source": [
    "* **runReproductionCycle():** This is the main function of the algorithm. I run the reproduction cycle and use all GA operatores in order to get the solution. First I traverse the chromosomes in the current generation and check whther the final solution is found or not meanwhile I store the best fitness to save its value in `bestIndividuals` attribute in order to use it in `isInLocalMaxima()` method. Then I start the evolution part. I store the best chromosomes as they transfer directly to next generation without being crossovered and mutated. The number of this chromosomes is based on the hyperparameter `SELECTION_RATE`. The remaining number of chromosomes in next generation are generated by applying cross over and mutation on the chromosomes of current genearion and also the hyperparameters `CROSSOVER_RATE` and `mutationRate` are considered. Note that the population size does not change in each generaion and it is always as size of hyperparameter `POPULATION_SIZE`.\n",
    "* **tournamentSelection():** I used 4-way tournamen selection as selection operator. Because this method is fast and keeps the diversity of the selected individuals as the parents of next generation individuals. In this method I select 4 random individuals and return the best of them(which has a better fitness).\n",
    "* **rankBasedSelection():** I implemented the rank-based selection too, but beacuse of the fact that it was time consuming and in some cases would suffer from convergence, I did not use it.\n",
    "* **crossover():** This method traverse all N=9 rows of the table and apply 1-point crossover for each row. note that in the reproduction cycle we apply crossover operator by hyperparameter `CROSSOVER_RATE`.\n",
    "* **onePointCrossOverInRow():** This function implement the 1-point crossover for each row. It generates a random number(`crossPoint`) and swap values according to the 1-point crossover method.\n",
    "* **mutate():** In this method I apply mutation for a table base on the `mutationRate` variable in the code. This rate is caldulated by $1 - \\dfrac {fitness} {3 * N * N}$. It shows how far we are from the final solution. the furthure we are the higher possibility of the mutation will be. Note that here according to the fitness function (described in individual part) the maximum number of fitness for a chromosome is $3 * N * N$.\n",
    "* **isInLocalMaxima()**: In this method I check wether we are in local optima or not. In order to do this I store best fitness of each generation in a list called `bestIndividuals` and if the last `LOCAL_OPTIMAL_SIZE` number of this list are the same meanes that we are in local optima. In this case I increase the mutation rate by `INCREASE_MUTATION_RATE`. If after `MAX_LOCAL_OPTIMA_NUMBER` number we are still in local optima the reproduction cycle starts over."
   ]
  },
  {
   "cell_type": "code",
   "execution_count": 5,
   "metadata": {},
   "outputs": [],
   "source": [
    "class GA:\n",
    "\n",
    "    def __init__(self):\n",
    "        self.grid = readFile()\n",
    "        self.problem = Individual()\n",
    "        self.problem.grid = self.grid\n",
    "        self.population = Population()\n",
    "        self.population.generatePopulation(self.grid)\n",
    "        self.numberOfTimesGotInLocalMaxima = 0\n",
    "        self.population.setFitness()\n",
    "        self.bestIndividuals = []\n",
    "\n",
    "    def runReproductionCycle(self):\n",
    "        random.seed()\n",
    "        for generation in range(NUMBER_OF_GENERATIONS):\n",
    "            bestFitness = 0\n",
    "            for i in range(POPULATION_SIZE):\n",
    "                fitness = self.population.chromosomes[i].fitness\n",
    "                if fitness == 3 * N * N:\n",
    "                    print(f\"Solution has been found in {generation} generations\")\n",
    "                    print(\"Solution Grid:\")\n",
    "                    print(self.population.chromosomes[i].grid)\n",
    "                    return self.population.chromosomes[i]\n",
    "                if fitness > bestFitness:\n",
    "                    bestFitness = fitness\n",
    "\n",
    "            self.bestIndividuals.append(bestFitness)\n",
    "            nextPopulation = []\n",
    "\n",
    "            self.population.sort()\n",
    "            for elite in range(0, int(SELECTION_RATE * POPULATION_SIZE)):\n",
    "                best = Individual()\n",
    "                best.grid = np.copy(self.population.chromosomes[int(SELECTION_RATE * POPULATION_SIZE) - elite].grid)\n",
    "                nextPopulation.append(best)\n",
    "\n",
    "            for _ in range(int(SELECTION_RATE * POPULATION_SIZE), POPULATION_SIZE):\n",
    "                parent1 = self.tournamentSelection(self.population.chromosomes)\n",
    "                parent2 = self.tournamentSelection(self.population.chromosomes)\n",
    "                child1 = parent1\n",
    "                child2 = parent2\n",
    "                if random.random() < CROSSOVER_RATE:\n",
    "                    child1, child2 = self.crossover(parent1, parent2)\n",
    "                    child1.setFitness()\n",
    "                    child2.setFitness()\n",
    "                if self.numberOfTimesGotInLocalMaxima > MAX_LOCAL_OPTIMA_NUMBER:\n",
    "                    return None\n",
    "                child1, child2 = self.mutate(child1, child2)\n",
    "                nextPopulation.append(child1)\n",
    "                nextPopulation.append(child2)\n",
    "\n",
    "            self.population.chromosomes = nextPopulation\n",
    "            self.population.setFitness()\n",
    "\n",
    "    def mutate(self, child1, child2):\n",
    "        mutationRate = 1-(child1.fitness/(3 * N * N))\n",
    "        if self.isInLocalMaxima(self.bestIndividuals):\n",
    "            mutationRate += INCREASE_MUTATION_RATE\n",
    "            self.numberOfTimesGotInLocalMaxima += 1\n",
    "        if random.random() < mutationRate:\n",
    "            child1.mutate(self.problem)\n",
    "            child1.setFitness()\n",
    "        mutationRate = 1-(child2.fitness/(3 * N * N))\n",
    "        if self.isInLocalMaxima(self.bestIndividuals):\n",
    "            mutationRate += INCREASE_MUTATION_RATE\n",
    "        if random.random() < mutationRate:\n",
    "            child2.mutate(self.problem)\n",
    "            child2.setFitness()\n",
    "        return child1, child2\n",
    "        \n",
    "    def crossover(self, parent1, parent2):\n",
    "        child1 = Individual()\n",
    "        child2 = Individual()\n",
    "        child1.grid = np.copy(parent1.grid)\n",
    "        child2.grid = np.copy(parent2.grid)\n",
    "        for i in range(N):\n",
    "            child1.grid[i], child2.grid[i] = self.onePointCrossOverInRow(child1.grid[i], child2.grid[i])\n",
    "        return child1, child2\n",
    "\n",
    "    def onePointCrossOverInRow(self, row1, row2):\n",
    "        crossPoint = random.randint(1,8)\n",
    "        child1 = [0] * N\n",
    "        child2 = [0] * N\n",
    "        for i in range(crossPoint):\n",
    "            child1[i] = row1[i]\n",
    "        for i in range(crossPoint, N):\n",
    "            child1[i] = row2[i]\n",
    "        for i in range(crossPoint):\n",
    "            child2[i] = row2[i]\n",
    "        for i in range(crossPoint, N):\n",
    "            child2[i] = row1[i]\n",
    "        return child1, child2\n",
    "\n",
    "    def tournamentSelection(self, chromosomes):\n",
    "        c1 = chromosomes[random.randint(0, len(chromosomes)-1)]\n",
    "        c2 = chromosomes[random.randint(0, len(chromosomes)-1)]\n",
    "        c3 = chromosomes[random.randint(0, len(chromosomes)-1)]\n",
    "        c4 = chromosomes[random.randint(0, len(chromosomes)-1)]\n",
    "        c = [c1, c2, c3, c4]\n",
    "        f = [c1.fitness, c2.fitness, c3.fitness, c4.fitness]\n",
    "        idx = np.argmax(f)\n",
    "        return c[idx]\n",
    "\n",
    "    def rankBasedSelection(self, chromosomes): \n",
    "        summ = sum(range(1,POPULATION_SIZE+1)) \n",
    "        r = random.randint(1, summ)\n",
    "        stemp = 0\n",
    "        for i in range(len(chromosomes)):\n",
    "            if stemp >= r:\n",
    "                return chromosomes[i]\n",
    "            stemp += i\n",
    "\n",
    "    def isInLocalMaxima(self, bestIndividuals):\n",
    "        if len(bestIndividuals) < LOCAL_OPTIMAL_SIZE:\n",
    "            return False\n",
    "        recentIndividuals = bestIndividuals[len(bestIndividuals) - LOCAL_OPTIMAL_SIZE:]\n",
    "        return recentIndividuals[1:] == recentIndividuals[:-1]\n"
   ]
  },
  {
   "cell_type": "markdown",
   "metadata": {},
   "source": [
    "### Run Test1"
   ]
  },
  {
   "cell_type": "markdown",
   "metadata": {},
   "source": [
    "Here I read the input sudoku table as input data."
   ]
  },
  {
   "cell_type": "code",
   "execution_count": 6,
   "metadata": {},
   "outputs": [],
   "source": [
    "def readFile():\n",
    "    f = open(\"Test1.txt\", \"r\")\n",
    "    file_lines = f.read().split('\\n')\n",
    "    grid = [[] for i in range(N)]\n",
    "    for i in range(N):\n",
    "        line_values = [(int(value) if value != '0' else 0) for value in file_lines[i].split(' ')]\n",
    "        for j in range(N):\n",
    "            grid[i].append(line_values[j])\n",
    "    print(\"Initial Sudoku Grid: \")\n",
    "    print(np.matrix(grid))\n",
    "    return grid"
   ]
  },
  {
   "cell_type": "markdown",
   "metadata": {},
   "source": [
    "Now I run the reproduction cycle and print the final solution."
   ]
  },
  {
   "cell_type": "code",
   "execution_count": 7,
   "metadata": {},
   "outputs": [
    {
     "name": "stdout",
     "output_type": "stream",
     "text": [
      "Initial Sudoku Grid: \n",
      "[[8 0 6 0 0 0 1 0 7]\n",
      " [0 0 0 6 0 2 0 0 0]\n",
      " [0 5 3 0 0 4 8 0 6]\n",
      " [7 0 4 8 0 0 6 3 0]\n",
      " [0 0 0 0 0 0 0 9 0]\n",
      " [1 0 0 5 0 0 4 0 0]\n",
      " [0 0 1 2 0 0 7 0 9]\n",
      " [2 0 0 0 9 6 0 0 0]\n",
      " [0 7 0 0 1 0 0 8 0]]\n",
      "Solution has been found in 21 generations\n",
      "Solution Grid:\n",
      "[[8 2 6 9 3 5 1 4 7]\n",
      " [4 1 7 6 8 2 9 5 3]\n",
      " [9 5 3 1 7 4 8 2 6]\n",
      " [7 9 4 8 2 1 6 3 5]\n",
      " [5 6 8 3 4 7 2 9 1]\n",
      " [1 3 2 5 6 9 4 7 8]\n",
      " [3 4 1 2 5 8 7 6 9]\n",
      " [2 8 5 7 9 6 3 1 4]\n",
      " [6 7 9 4 1 3 5 8 2]]\n",
      "executation time: 147.87599420547485\n"
     ]
    }
   ],
   "source": [
    "ga = GA()\n",
    "start = time.time()\n",
    "while (ga.runReproductionCycle() == None):\n",
    "    print(\"Got In Local Optima!\\nStarting The Reproduction Cycle Again.\")\n",
    "    ga = GA()\n",
    "    ga.runReproductionCycle()\n",
    "end = time.time()\n",
    "print(f\"executation time: {end-start}\")"
   ]
  },
  {
   "cell_type": "markdown",
   "metadata": {},
   "source": [
    "### Run Test2"
   ]
  },
  {
   "cell_type": "code",
   "execution_count": 10,
   "metadata": {},
   "outputs": [],
   "source": [
    "def readFile():\n",
    "    f = open(\"Test2.txt\", \"r\")\n",
    "    file_lines = f.read().split('\\n')\n",
    "    grid = [[] for i in range(N)]\n",
    "    for i in range(N):\n",
    "        line_values = [(int(value) if value != '0' else 0) for value in file_lines[i].split(' ')]\n",
    "        for j in range(N):\n",
    "            grid[i].append(line_values[j])\n",
    "    print(\"Initial Sudoku Grid: \")\n",
    "    print(np.matrix(grid))\n",
    "    return grid"
   ]
  },
  {
   "cell_type": "code",
   "execution_count": 11,
   "metadata": {},
   "outputs": [
    {
     "name": "stdout",
     "output_type": "stream",
     "text": [
      "Initial Sudoku Grid: \n",
      "[[0 6 0 2 0 0 0 7 1]\n",
      " [4 0 5 0 0 0 0 0 2]\n",
      " [3 0 0 0 8 0 6 9 0]\n",
      " [2 0 0 9 0 8 7 0 0]\n",
      " [0 9 3 0 0 0 8 0 0]\n",
      " [0 0 6 0 0 1 0 0 9]\n",
      " [0 8 7 0 3 0 0 0 6]\n",
      " [6 0 0 0 0 0 5 0 7]\n",
      " [0 0 0 0 0 9 0 2 0]]\n",
      "Solution has been found in 16 generations\n",
      "Solution Grid:\n",
      "[[9 6 8 2 5 3 4 7 1]\n",
      " [4 7 5 1 9 6 3 8 2]\n",
      " [3 1 2 4 8 7 6 9 5]\n",
      " [2 5 1 9 4 8 7 6 3]\n",
      " [7 9 3 6 2 5 8 1 4]\n",
      " [8 4 6 3 7 1 2 5 9]\n",
      " [1 8 7 5 3 2 9 4 6]\n",
      " [6 2 9 8 1 4 5 3 7]\n",
      " [5 3 4 7 6 9 1 2 8]]\n",
      "executation time: 54.94129753112793\n"
     ]
    }
   ],
   "source": [
    "ga = GA()\n",
    "start = time.time()\n",
    "while (ga.runReproductionCycle() == None):\n",
    "    print(\"Got In Local Optima!\\nStarting The Reproduction Cycle Again.\")\n",
    "    ga = GA()\n",
    "    ga.runReproductionCycle()\n",
    "end = time.time()\n",
    "print(f\"executation time: {end-start}\")"
   ]
  },
  {
   "cell_type": "markdown",
   "metadata": {},
   "source": [
    "### Questions"
   ]
  },
  {
   "cell_type": "markdown",
   "metadata": {},
   "source": [
    "### 1. **Explain the selection method and your reason for choosing this method**."
   ]
  },
  {
   "cell_type": "markdown",
   "metadata": {},
   "source": [
    "I implemeted 2 selection methods: 1- `Tournament Selection` 2- `Rand-based Selection`. I employed the **4-way Tournament Selection** method because it was more **efficient** and **optimal** and also the **diversity** of the selections was acceptable but **Rank-based Selection** method was **time consuming** and in some cases would suffer from **convergence** so I did not use it. More details are in the code and explained in GA part."
   ]
  },
  {
   "cell_type": "markdown",
   "metadata": {},
   "source": [
    "### 2. Explain The reason of choosing fitness function."
   ]
  },
  {
   "cell_type": "markdown",
   "metadata": {},
   "source": [
    "The fitness function is the total number of unique values in each row, column and 3x3 block. So if the fitness value of a chromosome is $81 * 3 = 243$ it is the final solution and we have reached the answer, because actually we are considering each gene(sqaue) 3 times. This function is very accurate according to the sudoku rules beacuse we are considering number of different sqauares which pass all 3 conditions of the game rules. Also this function is simple and does not add much time and space complexity."
   ]
  },
  {
   "cell_type": "markdown",
   "metadata": {},
   "source": [
    "### 3. what is the effect of crossover and mutation functions? Also explain the mutation rate and crossover rate."
   ]
  },
  {
   "cell_type": "markdown",
   "metadata": {},
   "source": [
    "The **crossover** and **mutation** operators are the most important ingredient of GAs. In **crossover**, by selecting individuals from the parental generation and interchanging their genes, new individuals are obtained. Hence, employing a good selection method is vital otherwise it is possible that our algotirhm does not work or not be optimal. In muation function, unlike crossover method, we do not need two parents. Changes are made in genes according to the mutation rate. As the **crossover** function by applying good mutation operators we can generate better offsprings for the next generation therefore our algorith, would be optimal. Although sometimes the mutation operator is discarded and considered as a secondary operator, I used it in this project. Chhosing good combination of mutation and crossover operators can result in improving the performance and completeness of GAs.\n",
    "Mostly the **crossover rate** ($P_c$) is not small beacause of the fact that we are trying to generate offspring from $2$ parents and evolve the generation so I considered the crossover rate as $0.9$. By choosing a small crossover rate $P_c$ each generation would evolve less so we get far from the main purpuse of using GA. Although these hyperparameters are very dependent on the problem. Sometimes the **mutation rate** ($P_m$) are defined as **constant** but sometimes they are calculated **dynamically** throught the algorithm. In this assignment I used **dynamic mutation rate** based on the situation of the chromosoms and as we get closer to the solution the mutation rate decreses. This rate is caldulated by $1 - \\dfrac {fitness} {3 * N * N}$. It shows how far we are from the final solution. Actually the concept of choosing this dynamic mutation rate is like `Simulated Annealing Search`, because as we get closer to the solution the mutation rate decreses and our chromosome would change with less probability. The furthure we are the higher probability of the mutation will be. By applying good mutation rate the diversity of the **pupulation** is kept so $P_m$ can effect on **convergence** of the GA. Usually, large mutation rate would make the GA search to resemble a random search."
   ]
  },
  {
   "cell_type": "markdown",
   "metadata": {},
   "source": [
    "### 4. Explain the reasons and problems of getting in a local optima. Suggest some solutions."
   ]
  },
  {
   "cell_type": "markdown",
   "metadata": {},
   "source": [
    "In GAs one critical aspect is keeping diversity of the population and avoid premature convergence to local optima.\n",
    "**Main Reasons:**\n",
    "* **small diversity:** The main reason is small diversity in the population because sometimes some solutions in population are not good but some part of them could help us to get closer to the solution. and when the chromosomes are like eachother we can not generate different and better offsprings so we get in a local optima. So **diversity** is vital in GAs.\n",
    "* **small population size:** when the population size is small we are not provided with wide range of solution to the problem so we may lost solutions which can gets us to the final solution. Hence, we get into a local optima.\n",
    "* **choosing not proper sleection algorithm**: selection operator in GAs are very important. some selection methodes would get us into local optima because they just want to choose the best individuals so after some generations all chromosomes may be more or less the same as eachother. for instance `roulette wheel` selection method is among methodes which would end in local optima but in `tournament` selection is less likely to get into local optima. \n",
    "* **Problem:** By getting into a local optima we can not get the best final solution so the GA will not be **complete**.\n",
    "* **Solutions:** \n",
    "* **Increasing population size**: By increasing the population size our choices in each generaion for selecting parent of the next geneartion will get wider so it is less likely to get into a local optima.\n",
    "* **Increase mutation rate**: When we get into a local optima we can increase mutation rate inorder to get individual to get close to a different local minimum. This can help us get out of a local minimum to finally get to the global optima."
   ]
  },
  {
   "cell_type": "markdown",
   "metadata": {},
   "source": [
    "### Concolusion"
   ]
  },
  {
   "cell_type": "markdown",
   "metadata": {},
   "source": [
    "In this assinmnet I learned the concept of genetic algorithm and how to make them optimal based on the problem. I learned the difference between mutation methodes, selection methodes and crossover methodes and also how they can affect when they are combines effectively. Also I observed how hyperparameters can effect on the algorithm. Now I can employ GAs and choose selection, crossover and mutation methode base on the problem and choose fittest hyperparameters for my solution."
   ]
  },
  {
   "cell_type": "markdown",
   "metadata": {},
   "source": [
    "#### References"
   ]
  },
  {
   "cell_type": "markdown",
   "metadata": {},
   "source": [
    "1- Refernce book of the course: *Artificial Intelligence A Modern Approach*\n",
    "\n",
    "2- towardsdatascience.com which you can find here: https://towardsdatascience.com/introduction-to-optimization-with-genetic-algorithm-2f5001d9964b\n",
    "\n",
    "3- Performance evaluation of WMN-GA for different mutation and crossover rates considering number of covered users parameter - Admir Barolli, Fatos Xhafa, Leonard Barolli, Makoto IkedadandMakoto Takizawa"
   ]
  },
  {
   "cell_type": "code",
   "execution_count": null,
   "metadata": {},
   "outputs": [],
   "source": []
  }
 ],
 "metadata": {
  "kernelspec": {
   "display_name": "Python 3",
   "language": "python",
   "name": "python3"
  },
  "language_info": {
   "codemirror_mode": {
    "name": "ipython",
    "version": 3
   },
   "file_extension": ".py",
   "mimetype": "text/x-python",
   "name": "python",
   "nbconvert_exporter": "python",
   "pygments_lexer": "ipython3",
   "version": "3.8.3"
  }
 },
 "nbformat": 4,
 "nbformat_minor": 5
}
